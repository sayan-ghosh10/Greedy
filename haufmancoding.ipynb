{
  "nbformat": 4,
  "nbformat_minor": 0,
  "metadata": {
    "colab": {
      "provenance": []
    },
    "kernelspec": {
      "name": "python3",
      "display_name": "Python 3"
    },
    "language_info": {
      "name": "python"
    }
  },
  "cells": [
    {
      "cell_type": "code",
      "execution_count": 2,
      "metadata": {
        "colab": {
          "base_uri": "https://localhost:8080/"
        },
        "id": "6o1tI5hOruMg",
        "outputId": "7a365ba4-508b-4aef-9cc8-97133f16ee35"
      },
      "outputs": [
        {
          "output_type": "stream",
          "name": "stdout",
          "text": [
            "Input string: hello world\n",
            "Encoded string: 11101111101011000001011000110011\n",
            "Huffman code:\n",
            " : 000\n",
            "d: 011\n",
            "e: 1111\n",
            "h: 1110\n",
            "l: 10\n",
            "o: 110\n",
            "r: 001\n",
            "w: 010\n"
          ]
        }
      ],
      "source": [
        "from collections import Counter, namedtuple\n",
        "import heapq\n",
        "class Node(namedtuple(\"Node\", [\"left\", \"right\"])):\n",
        "    def walk(self, code, acc):\n",
        "        self.left.walk(code, acc + \"0\")\n",
        "        self.right.walk(code, acc + \"1\")\n",
        "\n",
        "class Leaf(namedtuple(\"Leaf\", [\"char\"])):\n",
        "    def walk(self, code, acc):\n",
        "        code[self.char] = acc or \"0\"\n",
        "\n",
        "def huffman_encode(s):\n",
        "    h = []\n",
        "    for ch, freq in Counter(s).items():\n",
        "        h.append((freq, len(h), Leaf(ch)))\n",
        "\n",
        "    count = len(h)\n",
        "    while len(h) > 1:\n",
        "        freq1, _count1, left = heapq.heappop(h)\n",
        "        freq2, _count2, right = heapq.heappop(h)\n",
        "        heapq.heappush(h, (freq1 + freq2, count, Node(left, right)))\n",
        "        count += 1\n",
        "\n",
        "    code = {}\n",
        "    if h:\n",
        "        [(_freq, _count, root)] = h\n",
        "        root.walk(code, \"\")\n",
        "\n",
        "    encoded = \"\".join(code[ch] for ch in s)\n",
        "    return encoded, code\n",
        "\n",
        "def main():\n",
        "    s = \"hello world\"\n",
        "    encoded, code = huffman_encode(s)\n",
        "    print(\"Input string:\", s)\n",
        "    print(\"Encoded string:\", encoded)\n",
        "    print(\"Huffman code:\")\n",
        "    for ch, c in sorted(code.items()):\n",
        "        print(f\"{ch}: {c}\")\n",
        "\n",
        "if __name__ == '__main__':\n",
        "    main()\n"
      ]
    }
  ]
}