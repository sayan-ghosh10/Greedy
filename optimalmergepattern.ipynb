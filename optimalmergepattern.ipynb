{
  "nbformat": 4,
  "nbformat_minor": 0,
  "metadata": {
    "colab": {
      "provenance": []
    },
    "kernelspec": {
      "name": "python3",
      "display_name": "Python 3"
    },
    "language_info": {
      "name": "python"
    }
  },
  "cells": [
    {
      "cell_type": "code",
      "source": [
        "# import heapq\n",
        "\n",
        "# # Create a list and turn it into a heap\n",
        "# my_list = [3, 1, 4, 1, 5, 9, 2, 6, 5, 3, 5]\n",
        "# heapq.heapify(my_list)\n",
        "# print(my_list)  # [1, 1, 2, 3, 3, 9, 4, 6, 5, 5, 5]\n",
        "\n",
        "# # Add an item to the heap\n",
        "# heapq.heappush(my_list, 0)\n",
        "# print(my_list)  # [0, 1, 2, 3, 1, 9, 4, 6, 5, 5, 5, 3]\n",
        "\n",
        "# # Remove the smallest item from the heap\n",
        "# smallest = heapq.heappop(my_list)\n",
        "# print(smallest)  # 0\n",
        "# print(my_list)  # [1, 1, 2, 3, 3, 9, 4, 6, 5, 5, 5, 3]\n",
        "\n",
        "# # Find the n smallest items in a list\n",
        "# n = 3\n",
        "# smallest_n = heapq.nsmallest(n, my_list)\n",
        "# print(smallest_n)  # [1, 1, 2]\n",
        "\n",
        "# # Find the n largest items in a list\n",
        "# largest_n = heapq.nlargest(n, my_list)\n",
        "# print(largest_n)  # [9, 6, 5]\n",
        "\n",
        "# # Merge multiple sorted lists into a single sorted list\n",
        "# lists = [[1, 4, 7], [2, 5, 8], [3, 6, 9]]\n",
        "# merged = heapq.merge(*lists)\n",
        "# print(list(merged))  # [1, 2, 3, 4, 5, 6, 7, 8, 9]\n"
      ],
      "metadata": {
        "colab": {
          "base_uri": "https://localhost:8080/"
        },
        "id": "6U-MnGnLQ4zg",
        "outputId": "bb92f39e-026f-47d9-aa21-ffa2f7a3179f"
      },
      "execution_count": 7,
      "outputs": [
        {
          "output_type": "stream",
          "name": "stdout",
          "text": [
            "[1, 1, 2, 3, 3, 9, 4, 6, 5, 5, 5]\n",
            "[0, 1, 1, 3, 3, 2, 4, 6, 5, 5, 5, 9]\n",
            "0\n",
            "[1, 1, 2, 3, 3, 9, 4, 6, 5, 5, 5]\n",
            "[1, 1, 2]\n",
            "[9, 6, 5]\n",
            "[1, 2, 3, 4, 5, 6, 7, 8, 9]\n"
          ]
        }
      ]
    },
    {
      "cell_type": "code",
      "source": [
        "import heapq\n",
        "\n",
        "def optimal_merge_pattern(lists):\n",
        "    heap = []\n",
        "    for i, lst in enumerate(lists):\n",
        "        if len(lst) > 0:\n",
        "            heapq.heappush(heap, (lst[0], i, 0))\n",
        "            print(heap)\n",
        "    merged = []\n",
        "    while len(heap) > 0:\n",
        "        val, i, j = heapq.heappop(heap)\n",
        "        print(heap)\n",
        "        merged.append(val)\n",
        "        if j + 1 < len(lists[i]):\n",
        "            heapq.heappush(heap, (lists[i][j + 1], i, j + 1))\n",
        "            print(heap)\n",
        "    return merged\n",
        "    \n",
        "if __name__ == '__main__':\n",
        "    lists = [[1, 4, 7], [2, 5, 8], [3, 6, 9]]\n",
        "    merged = optimal_merge_pattern(lists)\n",
        "    print(merged)\n",
        "\n"
      ],
      "metadata": {
        "colab": {
          "base_uri": "https://localhost:8080/"
        },
        "id": "W-30d97lSUXz",
        "outputId": "5997ccde-39e0-4de1-fba2-e3b9b4744f07"
      },
      "execution_count": 16,
      "outputs": [
        {
          "output_type": "stream",
          "name": "stdout",
          "text": [
            "[(1, 0, 0)]\n",
            "[(1, 0, 0), (2, 1, 0)]\n",
            "[(1, 0, 0), (2, 1, 0), (3, 2, 0)]\n",
            "[(2, 1, 0), (3, 2, 0)]\n",
            "[(2, 1, 0), (3, 2, 0), (4, 0, 1)]\n",
            "[(3, 2, 0), (4, 0, 1)]\n",
            "[(3, 2, 0), (4, 0, 1), (5, 1, 1)]\n",
            "[(4, 0, 1), (5, 1, 1)]\n",
            "[(4, 0, 1), (5, 1, 1), (6, 2, 1)]\n",
            "[(5, 1, 1), (6, 2, 1)]\n",
            "[(5, 1, 1), (6, 2, 1), (7, 0, 2)]\n",
            "[(6, 2, 1), (7, 0, 2)]\n",
            "[(6, 2, 1), (7, 0, 2), (8, 1, 2)]\n",
            "[(7, 0, 2), (8, 1, 2)]\n",
            "[(7, 0, 2), (8, 1, 2), (9, 2, 2)]\n",
            "[(8, 1, 2), (9, 2, 2)]\n",
            "[(9, 2, 2)]\n",
            "[]\n",
            "[1, 2, 3, 4, 5, 6, 7, 8, 9]\n"
          ]
        }
      ]
    }
  ]
}