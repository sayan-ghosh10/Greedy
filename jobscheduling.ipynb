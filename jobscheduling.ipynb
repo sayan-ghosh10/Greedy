{
  "nbformat": 4,
  "nbformat_minor": 0,
  "metadata": {
    "colab": {
      "provenance": []
    },
    "kernelspec": {
      "name": "python3",
      "display_name": "Python 3"
    },
    "language_info": {
      "name": "python"
    }
  },
  "cells": [
    {
      "cell_type": "code",
      "execution_count": 5,
      "metadata": {
        "colab": {
          "base_uri": "https://localhost:8080/"
        },
        "id": "ltD5BRzVAbkX",
        "outputId": "3ad314db-d1cc-4853-9d7d-02f70707eada"
      },
      "outputs": [
        {
          "output_type": "stream",
          "name": "stdout",
          "text": [
            "Following is maximum profit sequence of jobs\n",
            "['b', 'a', 'd']\n"
          ]
        }
      ],
      "source": [
        "def JobSch(arr, t):\n",
        "\tn = len(arr)\n",
        "\tfor i in range(n):\n",
        "\t\tfor j in range(n - 1 - i):\n",
        "\t\t\tif arr[j][2] < arr[j + 1][2]:\n",
        "\t\t\t\tarr[j], arr[j + 1] = arr[j + 1], arr[j]\n",
        "\tresult = [False] * t\n",
        "\tjob = ['-1'] * t\n",
        "\tfor i in range(len(arr)):\n",
        "\t\tfor j in range((arr[i][1] - 1), -1, -1):\n",
        "\t\t\tif result[j] is False:\n",
        "\t\t\t\tresult[j] = True\n",
        "\t\t\t\tjob[j] = arr[i][0]\n",
        "\t\t\t\tbreak\n",
        "\tprint(job)\n",
        "if __name__ == '__main__':\n",
        "\tarr = [['a', 2, 20],\n",
        "\t\t\t['b', 2, 15],\n",
        "\t\t\t['c', 1, 10],\n",
        "\t\t\t['d', 3, 5],\n",
        "\t\t\t['e', 3, 2]]\n",
        "\tJobSch(arr, 3)\n",
        "\n"
      ]
    },
    {
      "cell_type": "code",
      "source": [
        "['-1']*3"
      ],
      "metadata": {
        "colab": {
          "base_uri": "https://localhost:8080/"
        },
        "id": "l0F3yQ5aX3Xw",
        "outputId": "2560baf7-3150-48f5-e12d-4907603d0735"
      },
      "execution_count": 3,
      "outputs": [
        {
          "output_type": "execute_result",
          "data": {
            "text/plain": [
              "['-1', '-1', '-1']"
            ]
          },
          "metadata": {},
          "execution_count": 3
        }
      ]
    }
  ]
}