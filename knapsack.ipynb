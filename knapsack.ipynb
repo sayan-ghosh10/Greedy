{
 "cells": [
  {
   "cell_type": "code",
   "execution_count": 1,
   "id": "22d31f9e",
   "metadata": {},
   "outputs": [
    {
     "name": "stdout",
     "output_type": "stream",
     "text": [
      "55.33333333333333\n"
     ]
    }
   ],
   "source": [
    "def fknapsack(profit, weight, n, capacity):\n",
    "    profit_per_weight=[]\n",
    "    total_profit=0\n",
    "    x=[0 for i in range(n)]\n",
    "    for i in range(n):\n",
    "        profit_per_weight.append(profit[i]/weight[i])\n",
    "    while capacity!=0:\n",
    "        profit_index=profit_per_weight.index(max(profit_per_weight))\n",
    "        if weight[profit_index]<=capacity:\n",
    "            x[profit_index]=1\n",
    "            capacity-=weight[profit_index]\n",
    "        else:\n",
    "            x[profit_index]=capacity/weight[profit_index]\n",
    "            capacity-=x[profit_index]*weight[profit_index]\n",
    "        profit_per_weight[profit_index]=0\n",
    "    for i in range(n):\n",
    "        total_profit+=x[i]*profit[i]\n",
    "    return total_profit\n",
    "\n",
    "if __name__=='__main__':\n",
    "    #n=int(input(\"Enter the number of objects:\"))\n",
    "    #m=int(input(\"Enter the capacity of the knapsack:\"))\n",
    "    n=7\n",
    "    m=15\n",
    "    profit=[10,5,15,7,6,18,3]\n",
    "    weight=[2,3,5,7,1,4,1]\n",
    "    #total=fknapsack(profit, weight, n, m)\n",
    "    print(fknapsack(profit, weight, n, m))"
   ]
  },
  {
   "cell_type": "code",
   "execution_count": null,
   "id": "5b3d1127",
   "metadata": {},
   "outputs": [],
   "source": []
  }
 ],
 "metadata": {
  "kernelspec": {
   "display_name": "Python 3 (ipykernel)",
   "language": "python",
   "name": "python3"
  },
  "language_info": {
   "codemirror_mode": {
    "name": "ipython",
    "version": 3
   },
   "file_extension": ".py",
   "mimetype": "text/x-python",
   "name": "python",
   "nbconvert_exporter": "python",
   "pygments_lexer": "ipython3",
   "version": "3.10.1"
  }
 },
 "nbformat": 4,
 "nbformat_minor": 5
}
